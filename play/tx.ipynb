{
 "cells": [
  {
   "cell_type": "code",
   "execution_count": 12,
   "metadata": {},
   "outputs": [],
   "source": [
    "import requests\n",
    "NEXT_PUBLIC_ALCHEMY_URI_SEPOLIA = \"https://eth-sepolia.g.alchemy.com/v2/ge59eYhLfKBYZnlaRVg9Lbkb8ZaJ3Tg9\""
   ]
  },
  {
   "cell_type": "code",
   "execution_count": 13,
   "metadata": {},
   "outputs": [],
   "source": [
    "def get_recent_txs(address, page_key=None):\n",
    "    params = {\n",
    "        \"fromBlock\": hex(int(5000000)),\n",
    "        \"toBlock\": \"latest\",\n",
    "        # \"fromAddress\": address.lower(),\n",
    "        \"toAddress\": address.lower(),\n",
    "        \"withMetadata\": True,\n",
    "        \"excludeZeroValue\": False,\n",
    "        \"maxCount\": \"0x2\",\n",
    "        \"order\": \"desc\",\n",
    "        \"category\": [\"external\"],\n",
    "    }\n",
    "    if page_key:\n",
    "        params[\"pageKey\"] = page_key\n",
    "    response = requests.post(NEXT_PUBLIC_ALCHEMY_URI_SEPOLIA, json={\n",
    "        \"id\": 1,\n",
    "        \"jsonrpc\": \"2.0\",\n",
    "        \"method\": \"alchemy_getAssetTransfers\",\n",
    "        \"params\": [params]\n",
    "    })\n",
    "    return response.json().get('result')"
   ]
  },
  {
   "cell_type": "code",
   "execution_count": 14,
   "metadata": {},
   "outputs": [],
   "source": [
    "def get_recent_receipt(hash_list):\n",
    "    response = requests.post(NEXT_PUBLIC_ALCHEMY_URI_SEPOLIA, json={\n",
    "        \"id\": 1,\n",
    "        \"jsonrpc\": \"2.0\",\n",
    "        \"method\": \"eth_getTransactionReceipt\",\n",
    "        \"params\": hash_list\n",
    "    })\n",
    "    return response.json().get('result')"
   ]
  },
  {
   "cell_type": "code",
   "execution_count": 5,
   "metadata": {},
   "outputs": [],
   "source": [
    "address = \"0x83c8c0B395850bA55c830451Cfaca4F2A667a983\"\n",
    "result = get_recent_txs(address)"
   ]
  },
  {
   "cell_type": "code",
   "execution_count": 7,
   "metadata": {},
   "outputs": [
    {
     "data": {
      "text/plain": [
       "{'blockNum': '0x4e6f23',\n",
       " 'uniqueId': '0xa1cc48fca67621c830c6dc91f856035f1e0821d18bc210181448911e1b4a6c52:external',\n",
       " 'hash': '0xa1cc48fca67621c830c6dc91f856035f1e0821d18bc210181448911e1b4a6c52',\n",
       " 'from': '0xbb9645ed388572e63ae59638db8577122d684b22',\n",
       " 'to': '0x83c8c0b395850ba55c830451cfaca4f2a667a983',\n",
       " 'value': 0,\n",
       " 'erc721TokenId': None,\n",
       " 'erc1155Metadata': None,\n",
       " 'tokenId': None,\n",
       " 'asset': 'ETH',\n",
       " 'category': 'external',\n",
       " 'rawContract': {'value': '0x0', 'address': None, 'decimal': '0x12'},\n",
       " 'metadata': {'blockTimestamp': '2024-01-23T16:36:12.000Z'}}"
      ]
     },
     "execution_count": 7,
     "metadata": {},
     "output_type": "execute_result"
    }
   ],
   "source": [
    "result[\"transfers\"][0]"
   ]
  },
  {
   "cell_type": "code",
   "execution_count": 8,
   "metadata": {},
   "outputs": [],
   "source": [
    "receipts = get_recent_receipt(['0xa1cc48fca67621c830c6dc91f856035f1e0821d18bc210181448911e1b4a6c52'])"
   ]
  },
  {
   "cell_type": "code",
   "execution_count": 9,
   "metadata": {},
   "outputs": [
    {
     "data": {
      "text/plain": [
       "{'transactionHash': '0xa1cc48fca67621c830c6dc91f856035f1e0821d18bc210181448911e1b4a6c52',\n",
       " 'blockHash': '0x437a06e949eac43b9cd4fde23410c9478718ca967da5f9bdd326f214a0c7a6d7',\n",
       " 'blockNumber': '0x4e6f23',\n",
       " 'logs': [{'transactionHash': '0xa1cc48fca67621c830c6dc91f856035f1e0821d18bc210181448911e1b4a6c52',\n",
       "   'address': '0x83c8c0b395850ba55c830451cfaca4f2a667a983',\n",
       "   'blockHash': '0x437a06e949eac43b9cd4fde23410c9478718ca967da5f9bdd326f214a0c7a6d7',\n",
       "   'blockNumber': '0x4e6f23',\n",
       "   'data': '0x000000000000000000000000b86ff6f3fdf3d35e36d5db1d26bec0ffe2d0aa910000000000000000000000000000000000000000000000000000000000032ca5',\n",
       "   'logIndex': '0x2c',\n",
       "   'removed': False,\n",
       "   'topics': ['0x498fc64c3c7f25c2a420d7cbf8f6e5e9f63b033b11a621d30e4a9119587ede65',\n",
       "    '0x000000000000000000000000b86ff6f3fdf3d35e36d5db1d26bec0ffe2d0aa91',\n",
       "    '0xe653d5ed7e3f02e2fa7c765452b8e86420faade5c99e657dc85ddf9ec877c51b',\n",
       "    '0x000000000000000000000000bb9645ed388572e63ae59638db8577122d684b22'],\n",
       "   'transactionIndex': '0x1f'}],\n",
       " 'contractAddress': None,\n",
       " 'effectiveGasPrice': '0x103d91e885',\n",
       " 'cumulativeGasUsed': '0x27fab1',\n",
       " 'from': '0xbb9645ed388572e63ae59638db8577122d684b22',\n",
       " 'gasUsed': '0xd020',\n",
       " 'logsBloom': '0x00000000000000000000000000002000000100000000000000000000000040100000000000000000000000000000000000000000000000000000000000000000000000000000000000000000000000000000000000000000000000000000000002000000800000000000000000000000000000000000000000000000000000000000000000000000000000000000000000000000000000000000000000000000020000000000000000000000000000000000000000000000000000000000000000000000000000000000000014000000100000008000000000000000000000000000000080002000000000000000000000000000200000000000000000001000',\n",
       " 'status': '0x1',\n",
       " 'to': '0x83c8c0b395850ba55c830451cfaca4f2a667a983',\n",
       " 'transactionIndex': '0x1f',\n",
       " 'type': '0x2'}"
      ]
     },
     "execution_count": 9,
     "metadata": {},
     "output_type": "execute_result"
    }
   ],
   "source": [
    "receipts"
   ]
  },
  {
   "cell_type": "code",
   "execution_count": 11,
   "metadata": {},
   "outputs": [
    {
     "name": "stdout",
     "output_type": "stream",
     "text": [
      "498fc64c3c7f25c2a420d7cbf8f6e5e9f63b033b11a621d30e4a9119587ede65\n"
     ]
    }
   ],
   "source": [
    "from Crypto.Hash import keccak\n",
    "def keccak_256_hash(input_str):\n",
    "    keccak_hash = keccak.new(digest_bits=256)\n",
    "    keccak_hash.update(input_str.encode())\n",
    "    return keccak_hash.hexdigest()\n",
    "print(keccak_256_hash(\"Unescrow(address,uint256,address,address,uint256)\"))"
   ]
  }
 ],
 "metadata": {
  "kernelspec": {
   "display_name": "base",
   "language": "python",
   "name": "python3"
  },
  "language_info": {
   "codemirror_mode": {
    "name": "ipython",
    "version": 3
   },
   "file_extension": ".py",
   "mimetype": "text/x-python",
   "name": "python",
   "nbconvert_exporter": "python",
   "pygments_lexer": "ipython3",
   "version": "3.11.5"
  }
 },
 "nbformat": 4,
 "nbformat_minor": 2
}
